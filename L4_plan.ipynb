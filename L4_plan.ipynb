{
 "cells": [
  {
   "cell_type": "markdown",
   "metadata": {},
   "source": [
    "<img src=\"L4/1.png\" alt=\"Drawing\" style=\"width: 400px;\"/>"
   ]
  },
  {
   "cell_type": "markdown",
   "metadata": {},
   "source": [
    "**Problem:**\n",
    "Given: map, starting location, goal location, cost, Goal: find the minimum cost path"
   ]
  },
  {
   "cell_type": "markdown",
   "metadata": {},
   "source": [
    "## Computing cost"
   ]
  },
  {
   "cell_type": "markdown",
   "metadata": {},
   "source": [
    "<img src=\"L4/2.png\" alt=\"Drawing\" style=\"width: 400px;\"/>"
   ]
  },
  {
   "cell_type": "markdown",
   "metadata": {},
   "source": [
    "Write a search algorithm:"
   ]
  },
  {
   "cell_type": "markdown",
   "metadata": {},
   "source": [
    "<img src=\"L4/3.png\" alt=\"Drawing\" style=\"width: 400px;\"/>"
   ]
  },
  {
   "cell_type": "code",
   "execution_count": 50,
   "metadata": {
    "collapsed": false
   },
   "outputs": [
    {
     "name": "stdout",
     "output_type": "stream",
     "text": [
      "found\n",
      "['v', ' ', ' ', ' ', ' ', ' ']\n",
      "['v', ' ', ' ', ' ', ' ', ' ']\n",
      "['v', ' ', ' ', ' ', ' ', ' ']\n",
      "['v', ' ', '>', '>', '>', 'v']\n",
      "['>', '>', '^', ' ', ' ', '*']\n"
     ]
    },
    {
     "data": {
      "text/plain": [
       "[[0, -1, 13, 18, -1, -1],\n",
       " [1, -1, 10, 14, 19, -1],\n",
       " [2, -1, 8, 11, 15, 20],\n",
       " [3, -1, 7, 9, 12, 16],\n",
       " [4, 5, 6, -1, 17, 21]]"
      ]
     },
     "execution_count": 50,
     "metadata": {},
     "output_type": "execute_result"
    }
   ],
   "source": [
    "# UserInstructions:\n",
    "# \n",
    "# Defineafunction,search()that takes no input \n",
    "# and returns a list in the form of [optimal path length,x,y]. \n",
    "# For the grid shown below,your function should output [11,4,5].\n",
    "# \n",
    "# If there is no valid path from the startpoint to the goal,\n",
    "# your function should return the string 'fail'\n",
    "\n",
    "# Gridformat:\n",
    "# 0 = Navigable space\n",
    "# 1 = Occupied space\n",
    "grid= [[0,1,0,0,0,0], \n",
    "       [0,1,0,0,0,0],\n",
    "       [0,1,0,0,0,0],\n",
    "       [0,1,0,0,0,0], \n",
    "       [0,0,0,1,0,0]] #this is the same as image grid\n",
    "\n",
    "init=[0,0] # starting position \n",
    "goal=[len(grid)-1, len(grid[0])-1] # goal position\n",
    "delta= [[-1,0], #go up\n",
    "        [0,-1], #go left\n",
    "        [1,0], #go down\n",
    "        [0,1]] #do right \n",
    "delta_name=['^','<','v','>'] # ignorefornow \n",
    "cost=1 #each move costs 1\n",
    "\n",
    "def search():\n",
    "    closed=[[0 for row in range(len(grid[0]))] for col in range(len(grid))]\n",
    "    closed[init[0]][init[1]] = 1\n",
    "    \n",
    "    expand = [[-1] * len(grid[0]) for i in grid]\n",
    "    \n",
    "    action = [[-1] * len(grid[0]) for i in grid]\n",
    "    \n",
    "    x = init[0] \n",
    "    y = init[1] \n",
    "    g = 0\n",
    "    \n",
    "    open = [[g,x,y]]\n",
    "    \n",
    "    count = 0\n",
    "    \n",
    "    found = False\n",
    "    resign = False\n",
    "    \n",
    "    while not found and not resign:\n",
    "        if len(open) == 0:\n",
    "            resign = True\n",
    "            print \"fail\"\n",
    "        else:\n",
    "            open.sort()\n",
    "            open.reverse()\n",
    "            next = open.pop()\n",
    "            x = next[1]\n",
    "            y = next[2]\n",
    "            g = next[0]\n",
    "            \n",
    "            expand[x][y] = count\n",
    "            \n",
    "        if x == goal[0] and y == goal[1]:\n",
    "            found = True\n",
    "            print 'found'\n",
    "        else:\n",
    "            for i in range(len(delta)):\n",
    "                x2 = x + delta[i][0]\n",
    "                y2 = y + delta[i][1]\n",
    "                if x2 >= 0 and x2 < len(grid) and y2 >= 0 and y2 < len(grid[0]):\n",
    "                    if closed[x2][y2] == 0 and grid[x2][y2] == 0:\n",
    "                        g2 = g + cost\n",
    "                        open.append([g2, x2, y2])\n",
    "                        closed[x2][y2] = 1\n",
    "                        action[x2][y2] = i\n",
    "        count += 1\n",
    "        \n",
    "    policy = [[' '] * len(grid[0]) for i in grid]\n",
    "    x = goal[0]\n",
    "    y = goal[1]\n",
    "    policy[x][y] = '*'\n",
    "    while x != init[0] or y != init[1]:\n",
    "        x2 = x - delta[action[x][y]][0]\n",
    "        y2 = y - delta[action[x][y]][1]\n",
    "        policy[x2][y2] = delta_name[action[x][y]]\n",
    "        x = x2\n",
    "        y = y2\n",
    "    for row in policy:\n",
    "        print row\n",
    "    return expand\n",
    "                        \n",
    "search()"
   ]
  },
  {
   "cell_type": "markdown",
   "metadata": {},
   "source": [
    "## A* search algorithm (A star)"
   ]
  },
  {
   "cell_type": "markdown",
   "metadata": {},
   "source": [
    "<img src=\"L4/4.png\" alt=\"Drawing\" style=\"width: 400px;\"/>\n",
    "* Heuristic function: the number of steps it takes to get to a goal if there are no obstacles.\n",
    "* h(x,y) ≤ actual goal distance from x,y.\n",
    "* Set h(x,y) to zeros, back to the previous search algorithm."
   ]
  },
  {
   "cell_type": "markdown",
   "metadata": {},
   "source": [
    "<img src=\"L4/5.png\" alt=\"Drawing\" style=\"width: 400px;\"/>"
   ]
  },
  {
   "cell_type": "markdown",
   "metadata": {},
   "source": [
    "<img src=\"L4/6.png\" alt=\"Drawing\" style=\"width: 400px;\"/>\n",
    "* f = g + h(x,y)\n",
    "* Expand and remove the element with the lowest **f** value, not the lowest g value."
   ]
  },
  {
   "cell_type": "code",
   "execution_count": 56,
   "metadata": {
    "collapsed": false
   },
   "outputs": [
    {
     "name": "stdout",
     "output_type": "stream",
     "text": [
      "found\n",
      "['v', ' ', ' ', ' ', ' ', ' ']\n",
      "['v', ' ', ' ', ' ', ' ', ' ']\n",
      "['v', ' ', ' ', ' ', ' ', ' ']\n",
      "['v', ' ', '>', '>', '>', 'v']\n",
      "['>', '>', '^', ' ', ' ', '*']\n"
     ]
    },
    {
     "data": {
      "text/plain": [
       "[[0, -1, -1, -1, -1, -1],\n",
       " [1, -1, -1, -1, -1, -1],\n",
       " [2, -1, -1, -1, -1, -1],\n",
       " [3, -1, 7, 8, 9, 10],\n",
       " [4, 5, 6, -1, 11, 12]]"
      ]
     },
     "execution_count": 56,
     "metadata": {},
     "output_type": "execute_result"
    }
   ],
   "source": [
    "# A* algo\n",
    "\n",
    "grid= [[0,1,0,0,0,0], \n",
    "       [0,1,0,0,0,0],\n",
    "       [0,1,0,0,0,0],\n",
    "       [0,1,0,0,0,0], \n",
    "       [0,0,0,1,0,0]] \n",
    "\n",
    "heuristic = [[9,8,7,6,5,4], \n",
    "             [8,7,6,5,4,3],\n",
    "             [7,6,5,4,3,2],\n",
    "             [6,5,4,3,2,1], \n",
    "             [5,4,3,2,1,0]] \n",
    "\n",
    "#heuristic = [[0] * len(grid[0]) for row in grid]\n",
    "\n",
    "init=[0,0] # starting position \n",
    "goal=[len(grid)-1, len(grid[0])-1] # goal position\n",
    "delta= [[-1,0], #go up\n",
    "        [0,-1], #go left\n",
    "        [1,0], #go down\n",
    "        [0,1]] #do right \n",
    "delta_name=['^','<','v','>'] # ignorefornow \n",
    "cost=1 #each move costs 1\n",
    "\n",
    "def a_star_search():\n",
    "    closed=[[0 for row in range(len(grid[0]))] for col in range(len(grid))]\n",
    "    closed[init[0]][init[1]] = 1\n",
    "    \n",
    "    expand = [[-1] * len(grid[0]) for i in grid]\n",
    "    \n",
    "    action = [[-1] * len(grid[0]) for i in grid]\n",
    "    \n",
    "    x = init[0] \n",
    "    y = init[1] \n",
    "    g = 0\n",
    "    h = heuristic[x][y]\n",
    "    f = g + h\n",
    "    open = [[f, g, h, x, y]]\n",
    "    \n",
    "    count = 0\n",
    "    \n",
    "    found = False\n",
    "    resign = False\n",
    "    \n",
    "    while not found and not resign:\n",
    "        if len(open) == 0:\n",
    "            resign = True\n",
    "            print \"fail\"\n",
    "        else:\n",
    "            open.sort()\n",
    "            open.reverse()\n",
    "            next = open.pop()\n",
    "            x = next[3]\n",
    "            y = next[4]\n",
    "            g = next[1]\n",
    "            \n",
    "            expand[x][y] = count\n",
    "            \n",
    "        if x == goal[0] and y == goal[1]:\n",
    "            found = True\n",
    "            print 'found'\n",
    "        else:\n",
    "            for i in range(len(delta)):\n",
    "                x2 = x + delta[i][0]\n",
    "                y2 = y + delta[i][1]\n",
    "                if x2 >= 0 and x2 < len(grid) and y2 >= 0 and y2 < len(grid[0]):\n",
    "                    if closed[x2][y2] == 0 and grid[x2][y2] == 0:\n",
    "                        g2 = g + cost\n",
    "                        h2 = heuristic[x2][y2]\n",
    "                        f2 = g2 + h2\n",
    "                        open.append([f2, g2, h2, x2, y2])\n",
    "                        closed[x2][y2] = 1\n",
    "                        action[x2][y2] = i\n",
    "        count += 1\n",
    "        \n",
    "    policy = [[' '] * len(grid[0]) for i in grid]\n",
    "    x = goal[0]\n",
    "    y = goal[1]\n",
    "    policy[x][y] = '*'\n",
    "    while x != init[0] or y != init[1]:\n",
    "        x2 = x - delta[action[x][y]][0]\n",
    "        y2 = y - delta[action[x][y]][1]\n",
    "        policy[x2][y2] = delta_name[action[x][y]]\n",
    "        x = x2\n",
    "        y = y2\n",
    "    for row in policy:\n",
    "        print row\n",
    "    return expand\n",
    "                        \n",
    "a_star_search()"
   ]
  },
  {
   "cell_type": "markdown",
   "metadata": {},
   "source": [
    "## Dynamic programming"
   ]
  },
  {
   "cell_type": "markdown",
   "metadata": {},
   "source": [
    "<img src=\"L4/7.png\" alt=\"Drawing\" style=\"width: 400px;\"/>\n",
    "* This scenario shows the stochastic (probabilistic) nature of the world and that there is a need to plan not only for the most likely position, but for other positions as well. Dynamic programming is helpful because it gives us a solution for every location."
   ]
  },
  {
   "cell_type": "markdown",
   "metadata": {},
   "source": [
    "<img src=\"L4/8.png\" alt=\"Drawing\" style=\"width: 400px;\"/>\n",
    "* Dynamic programming will give us an optimum action (called the policy) to perform for every navigable grid cell."
   ]
  },
  {
   "cell_type": "code",
   "execution_count": 68,
   "metadata": {
    "collapsed": false
   },
   "outputs": [
    {
     "data": {
      "text/plain": [
       "[[11, 99, 99, 99, 5, 4],\n",
       " [10, 99, 99, 99, 4, 3],\n",
       " [9, 99, 99, 99, 3, 2],\n",
       " [8, 99, 99, 3, 2, 1],\n",
       " [7, 6, 5, 4, 99, 0]]"
      ]
     },
     "execution_count": 68,
     "metadata": {},
     "output_type": "execute_result"
    }
   ],
   "source": [
    "grid=[[0,1,0,0,0,0],\n",
    "      [0,1,0,0,0,0],\n",
    "      [0,1,0,0,0,0],\n",
    "      [0,1,0,0,0,0],\n",
    "      [0,0,0,0,1,0]]\n",
    "\n",
    "grid=[[0,1,0,1,0,0],\n",
    "      [0,1,0,1,0,0],\n",
    "      [0,1,0,1,0,0],\n",
    "      [0,1,1,0,0,0],\n",
    "      [0,0,0,0,1,0]]\n",
    "\n",
    "\n",
    "init=[0,0]\n",
    "goal=[len(grid)-1,len(grid[0])-1]\n",
    "\n",
    "delta= [[-1, 0],\n",
    "        [0, -1],\n",
    "        [1, 0],\n",
    "        [0, 1]]\n",
    "\n",
    "delta_name=['^','<','v','>'] \n",
    "cost_step=1\n",
    "\n",
    "\n",
    "def compute_value():\n",
    "    value = [[99 for row in range(len(grid[0]))] for col in range(len(grid))]\n",
    "    change = True\n",
    "    while change:\n",
    "        change = False\n",
    "        for x in range(len(grid)):\n",
    "            for y in range(len(grid[0])):\n",
    "                if goal[0] == x and goal[1] == y:\n",
    "                    if value[x][y] > 0:\n",
    "                        value[x][y] = 0\n",
    "                        change =True\n",
    "                elif grid[x][y] == 0:\n",
    "                    for a in range(len(delta)):\n",
    "                        x2 = x + delta[a][0]\n",
    "                        y2 = y + delta[a][1]\n",
    "                        if x2 >= 0 and x2 < len(grid) and y2 >= 0 and y2 < len(grid[0]):\n",
    "                            v2 = value[x2][y2] + cost_step\n",
    "                            if v2 < value[x][y]:\n",
    "                                change = True\n",
    "                                value[x][y] = v2\n",
    "    return value\n",
    "compute_value()"
   ]
  },
  {
   "cell_type": "code",
   "execution_count": 78,
   "metadata": {
    "collapsed": false
   },
   "outputs": [
    {
     "name": "stdout",
     "output_type": "stream",
     "text": [
      "['v', 'v', ' ', 'v', 'v', 'v']\n",
      "['v', 'v', ' ', 'v', 'v', 'v']\n",
      "['v', 'v', ' ', '>', '>', 'v']\n",
      "['>', '>', '>', '^', ' ', 'v']\n",
      "['^', '^', ' ', ' ', ' ', 'v']\n",
      "['^', '^', '<', '<', ' ', '*']\n"
     ]
    }
   ],
   "source": [
    "grid=[[0,0,1,0,0,0],\n",
    "      [0,0,1,0,0,0],\n",
    "      [0,0,1,0,0,0],\n",
    "      [0,0,0,0,1,0],\n",
    "      [0,0,1,1,1,0],\n",
    "      [0,0,0,0,1,0]]\n",
    "\n",
    "init=[0,0]\n",
    "goal=[len(grid)-1,len(grid[0])-1]\n",
    "\n",
    "delta= [[-1, 0],\n",
    "        [0, -1],\n",
    "        [1, 0],\n",
    "        [0, 1]]\n",
    "\n",
    "delta_name=['^','<','v','>'] \n",
    "cost_step=1\n",
    "\n",
    "\n",
    "def optimum_policy():\n",
    "    value = [[99 for row in range(len(grid[0]))] for col in range(len(grid))]\n",
    "    policy = [[' ' for row in range(len(grid[0]))] for col in range(len(grid))]\n",
    "    change = True\n",
    "    while change:\n",
    "        change = False\n",
    "        for x in range(len(grid)):\n",
    "            for y in range(len(grid[0])):\n",
    "                if goal[0] == x and goal[1] == y:\n",
    "                    if value[x][y] > 0:\n",
    "                        value[x][y] = 0\n",
    "                        policy[x][y] = '*'\n",
    "                        change =True\n",
    "                elif grid[x][y] == 0:\n",
    "                    for a in range(len(delta)):\n",
    "                        x2 = x + delta[a][0]\n",
    "                        y2 = y + delta[a][1]\n",
    "                        if x2 >= 0 and x2 < len(grid) and y2 >= 0 and y2 < len(grid[0]):\n",
    "                            v2 = value[x2][y2] + cost_step\n",
    "                            if v2 < value[x][y]:\n",
    "                                change = True\n",
    "                                value[x][y] = v2\n",
    "                                policy[x][y] = delta_name[a]\n",
    "    for i in range(len(value)):\n",
    "        print policy[i]\n",
    "\n",
    "        \n",
    "optimum_policy()"
   ]
  },
  {
   "cell_type": "markdown",
   "metadata": {},
   "source": [
    "<img src=\"L4/9.png\" alt=\"Drawing\" style=\"width: 400px;\"/>"
   ]
  },
  {
   "cell_type": "code",
   "execution_count": 79,
   "metadata": {
    "collapsed": false
   },
   "outputs": [
    {
     "ename": "IndentationError",
     "evalue": "expected an indented block (<ipython-input-79-57ef849f1a5c>, line 2)",
     "output_type": "error",
     "traceback": [
      "\u001b[0;36m  File \u001b[0;32m\"<ipython-input-79-57ef849f1a5c>\"\u001b[0;36m, line \u001b[0;32m2\u001b[0m\n\u001b[0;31m    \u001b[0m\n\u001b[0m    ^\u001b[0m\n\u001b[0;31mIndentationError\u001b[0m\u001b[0;31m:\u001b[0m expected an indented block\n"
     ]
    }
   ],
   "source": [
    "def optimum_policy2D():\n",
    "    "
   ]
  },
  {
   "cell_type": "code",
   "execution_count": null,
   "metadata": {
    "collapsed": true
   },
   "outputs": [],
   "source": []
  }
 ],
 "metadata": {
  "kernelspec": {
   "display_name": "Python 2",
   "language": "python",
   "name": "python2"
  },
  "language_info": {
   "codemirror_mode": {
    "name": "ipython",
    "version": 2
   },
   "file_extension": ".py",
   "mimetype": "text/x-python",
   "name": "python",
   "nbconvert_exporter": "python",
   "pygments_lexer": "ipython2",
   "version": "2.7.11"
  }
 },
 "nbformat": 4,
 "nbformat_minor": 0
}
