{
 "cells": [
  {
   "cell_type": "markdown",
   "metadata": {},
   "source": [
    "# Particle Filters \n",
    "are a sequence of algorithms for estimating the state of a system."
   ]
  },
  {
   "cell_type": "markdown",
   "metadata": {},
   "source": [
    "<img src=\"L3/1.png\" alt=\"Drawing\" style=\"width: 400px;\"/>\n",
    "* sonar senser is used in the figure.\n",
    "* here is global localization, but particle filter can be used for other purposes?!"
   ]
  },
  {
   "cell_type": "markdown",
   "metadata": {},
   "source": [
    "<img src=\"L3/2.png\" alt=\"Drawing\" style=\"width: 500px;\"/>"
   ]
  },
  {
   "cell_type": "markdown",
   "metadata": {},
   "source": [
    "* Histogram filter is exponential. Grid defined over k-dimensions.\n",
    "* Kalman filter is quadratic. It is fully represented by a vector - the mean - and the covariance matrix, which is quadratic."
   ]
  },
  {
   "cell_type": "markdown",
   "metadata": {},
   "source": [
    "* Histogram filters are approximate because the world is not discrete; localization for example, is an approximate filter. \n",
    "* Kalman filters are also approximate, they are only exact for linear systems, however, the world is non-linear."
   ]
  },
  {
   "cell_type": "markdown",
   "metadata": {},
   "source": [
    "# Robot code"
   ]
  },
  {
   "cell_type": "code",
   "execution_count": 2,
   "metadata": {
    "collapsed": true
   },
   "outputs": [],
   "source": [
    "# Bug in the move method: When the noise is non-zero,\n",
    "# everytime the robot makes a turn only. \n",
    "# The (x, y) is updated because of the forward_noise. verse vice!!!\n",
    "\n",
    "from math import *\n",
    "import random\n",
    "\n",
    "landmarks  = [[20.0, 20.0], [80.0, 80.0], [20.0, 80.0], [80.0, 20.0]]\n",
    "world_size = 100.0\n",
    "\n",
    "\n",
    "class robot:\n",
    "    def __init__(self):\n",
    "        self.x = random.random() * world_size\n",
    "        self.y = random.random() * world_size\n",
    "        self.orientation = random.random() * 2.0 * pi\n",
    "        self.forward_noise = 0.0;\n",
    "        self.turn_noise    = 0.0;\n",
    "        self.sense_noise   = 0.0;\n",
    "    \n",
    "    def set(self, new_x, new_y, new_orientation):\n",
    "        if new_x < 0 or new_x >= world_size:\n",
    "            raise ValueError, 'X coordinate out of bound'\n",
    "        if new_y < 0 or new_y >= world_size:\n",
    "            raise ValueError, 'Y coordinate out of bound'\n",
    "        if new_orientation < 0 or new_orientation >= 2 * pi:\n",
    "            raise ValueError, 'Orientation must be in [0..2pi]'\n",
    "        self.x = float(new_x)\n",
    "        self.y = float(new_y)\n",
    "        self.orientation = float(new_orientation)\n",
    "    \n",
    "    \n",
    "    def set_noise(self, new_f_noise, new_t_noise, new_s_noise):\n",
    "        # makes it possible to change the noise parameters\n",
    "        # this is often useful in particle filters\n",
    "        self.forward_noise = float(new_f_noise);\n",
    "        self.turn_noise    = float(new_t_noise);\n",
    "        self.sense_noise   = float(new_s_noise);\n",
    "    \n",
    "    \n",
    "    def sense(self):\n",
    "        Z = []\n",
    "        for i in range(len(landmarks)):\n",
    "            dist = sqrt((self.x - landmarks[i][0]) ** 2 + (self.y - landmarks[i][1]) ** 2)\n",
    "            dist += random.gauss(0.0, self.sense_noise)\n",
    "            Z.append(dist)\n",
    "        return Z\n",
    "    \n",
    "    \n",
    "    def move(self, turn, forward):\n",
    "        if forward < 0:\n",
    "            raise ValueError, 'Robot cant move backwards'         \n",
    "        \n",
    "        # turn, and add randomness to the turning command\n",
    "        orientation = self.orientation + float(turn) + random.gauss(0.0, self.turn_noise)\n",
    "        orientation %= 2 * pi\n",
    "        \n",
    "        ### Bug!\n",
    "        # move, and add randomness to the motion command\n",
    "        dist = float(forward) + random.gauss(0.0, self.forward_noise)\n",
    "        x = self.x + (cos(orientation) * dist)\n",
    "        y = self.y + (sin(orientation) * dist)\n",
    "        x %= world_size    # cyclic truncate\n",
    "        y %= world_size\n",
    "        \n",
    "        # set particle\n",
    "        res = robot()\n",
    "        res.set(x, y, orientation)\n",
    "        res.set_noise(self.forward_noise, self.turn_noise, self.sense_noise)\n",
    "        return res\n",
    "    \n",
    "    def Gaussian(self, mu, sigma, x):\n",
    "        \n",
    "        # calculates the probability of x for 1-dim Gaussian with mean mu and var. sigma\n",
    "        return exp(- ((mu - x) ** 2) / (sigma ** 2) / 2.0) / sqrt(2.0 * pi * (sigma ** 2))\n",
    "    \n",
    "    \n",
    "    def measurement_prob(self, measurement):\n",
    "        # calculates how likely a measurement should be        \n",
    "        prob = 1.0;\n",
    "        for i in range(len(landmarks)):\n",
    "            dist = sqrt((self.x - landmarks[i][0]) ** 2 + (self.y - landmarks[i][1]) ** 2)\n",
    "            prob *= self.Gaussian(dist, self.sense_noise, measurement[i])\n",
    "        return prob\n",
    "    \n",
    "    \n",
    "    \n",
    "    def __repr__(self):\n",
    "        return '[x=%.6s y=%.6s orient=%.6s]' % (str(self.x), str(self.y), str(self.orientation))\n",
    "\n",
    "\n",
    "\n",
    "def eval(r, p):\n",
    "    sum = 0.0;\n",
    "    for i in range(len(p)): # calculate mean error\n",
    "        dx = (p[i].x - r.x + (world_size/2.0)) % world_size - (world_size/2.0)\n",
    "        dy = (p[i].y - r.y + (world_size/2.0)) % world_size - (world_size/2.0)\n",
    "        err = sqrt(dx * dx + dy * dy)\n",
    "        sum += err\n",
    "    return sum / float(len(p))\n",
    "\n"
   ]
  },
  {
   "cell_type": "code",
   "execution_count": 3,
   "metadata": {
    "collapsed": false
   },
   "outputs": [
    {
     "name": "stdout",
     "output_type": "stream",
     "text": [
      "[33.538533201583036, 48.80343471238755, 24.88374825472535, 50.982325827427815]\n",
      "[25.90883576216007, 60.2308051623908, 60.395726667226555, 38.39442549940027]\n"
     ]
    }
   ],
   "source": [
    "myrobot = robot()\n",
    "# enter code here\n",
    "myrobot.set(30.0, 50.0, pi/2)\n",
    "myrobot.set_noise(5.0, 0.1, 5.0)\n",
    "\n",
    "myrobot = myrobot.move(-pi/2, 15.0)\n",
    "print myrobot.sense()\n",
    "\n",
    "myrobot = myrobot.move(-pi/2, 10.0)\n",
    "print myrobot.sense()"
   ]
  },
  {
   "cell_type": "markdown",
   "metadata": {},
   "source": [
    "# Robot world"
   ]
  },
  {
   "cell_type": "markdown",
   "metadata": {},
   "source": [
    "<img src=\"L3/3.png\" alt=\"Drawing\" style=\"width: 400px;\"/>\n",
    "* note: assume the robot world is cyclic."
   ]
  },
  {
   "cell_type": "markdown",
   "metadata": {},
   "source": [
    "<img src=\"L3/4.png\" alt=\"Drawing\" style=\"width: 300px;\"/>"
   ]
  },
  {
   "cell_type": "markdown",
   "metadata": {},
   "source": [
    "<img src=\"L3/5.png\" alt=\"Drawing\" style=\"width: 300px;\"/>"
   ]
  },
  {
   "cell_type": "markdown",
   "metadata": {},
   "source": [
    "<img src=\"L3/6.png\" alt=\"Drawing\" style=\"width: 300px;\"/>"
   ]
  },
  {
   "cell_type": "markdown",
   "metadata": {},
   "source": [
    "<img src=\"L3/7.png\" alt=\"Drawing\" style=\"width: 300px;\"/>\n",
    "* note: the weight is the mismatch between the actual measurement and the predicted measurement."
   ]
  },
  {
   "cell_type": "markdown",
   "metadata": {},
   "source": [
    "<img src=\"L3/8.png\" alt=\"Drawing\" style=\"width: 300px;\"/>"
   ]
  },
  {
   "cell_type": "markdown",
   "metadata": {},
   "source": [
    "* Draws N new particles with replacement by picking each particle with a probability proportional to the value of it’s $\\alpha_N = \\frac{w_N}{W}$, where $W = \\sum_i w_i$ and $w_i$ is the weight of each particle calculated by the **measurement_prob** method."
   ]
  },
  {
   "cell_type": "markdown",
   "metadata": {},
   "source": [
    "<img src=\"L3/9.png\" alt=\"Drawing\" style=\"width: 400px;\"/>\n",
    "* $\\alpha_1+\\alpha_2+\\alpha_4+\\alpha_5 = 0.6$, Then probablity of missing p3 is $0.6^5 = 0.0777$"
   ]
  },
  {
   "cell_type": "code",
   "execution_count": 18,
   "metadata": {
    "collapsed": false
   },
   "outputs": [
    {
     "name": "stdout",
     "output_type": "stream",
     "text": [
      "4.46664443109\n",
      "4.02442201618\n",
      "1.85229837185\n",
      "1.35435675085\n",
      "1.21319337241\n",
      "1.44503787449\n",
      "1.72639564709\n",
      "1.89700320175\n",
      "1.97768767694\n",
      "2.0531571378\n",
      "[[x=31.776 y=32.626 orient=2.9165], [x=31.574 y=33.235 orient=2.8557], [x=29.563 y=28.419 orient=3.1351], [x=29.888 y=31.041 orient=2.8799], [x=31.346 y=32.752 orient=2.8728], [x=30.565 y=30.970 orient=2.9865], [x=28.836 y=28.205 orient=2.9516], [x=29.326 y=27.520 orient=3.1425], [x=31.296 y=32.245 orient=2.7945], [x=32.558 y=34.568 orient=2.8589], [x=31.528 y=32.011 orient=2.9834], [x=31.644 y=33.311 orient=2.9012], [x=31.644 y=33.311 orient=2.9012], [x=30.161 y=30.857 orient=2.9236], [x=30.161 y=30.857 orient=2.9236], [x=30.161 y=30.857 orient=2.9236], [x=31.627 y=32.659 orient=2.9054], [x=32.402 y=34.311 orient=2.8294], [x=30.434 y=30.197 orient=3.0222], [x=31.402 y=33.907 orient=2.8082], [x=31.402 y=33.907 orient=2.8082], [x=31.402 y=33.907 orient=2.8082], [x=28.859 y=29.602 orient=2.9684], [x=28.928 y=27.989 orient=3.1638], [x=29.007 y=28.230 orient=3.1158], [x=29.007 y=28.230 orient=3.1158], [x=30.621 y=33.254 orient=2.8047], [x=30.394 y=32.775 orient=2.8130], [x=30.352 y=32.563 orient=2.8561], [x=31.465 y=33.850 orient=2.7431], [x=30.527 y=30.460 orient=3.0278], [x=30.676 y=31.279 orient=2.9111], [x=30.676 y=31.279 orient=2.9111], [x=31.352 y=32.820 orient=2.8869], [x=31.195 y=32.244 orient=2.8962], [x=31.195 y=32.244 orient=2.8962], [x=31.860 y=33.281 orient=2.9294], [x=30.807 y=32.335 orient=2.8727], [x=30.790 y=32.362 orient=2.8684], [x=30.239 y=30.324 orient=2.9866], [x=31.300 y=33.019 orient=2.8799], [x=31.300 y=33.019 orient=2.8799], [x=30.442 y=32.595 orient=2.8148], [x=29.995 y=32.257 orient=2.8642], [x=29.915 y=32.071 orient=2.8310], [x=29.893 y=31.267 orient=2.9080], [x=31.365 y=33.489 orient=2.7510], [x=29.984 y=30.838 orient=2.9157], [x=30.583 y=31.791 orient=2.9286], [x=30.030 y=30.242 orient=3.0034], [x=30.030 y=30.242 orient=3.0034], [x=31.361 y=32.636 orient=2.8772], [x=30.781 y=31.712 orient=2.9442], [x=30.781 y=31.712 orient=2.9442], [x=29.944 y=30.946 orient=2.9196], [x=31.101 y=30.511 orient=3.1101], [x=31.101 y=30.511 orient=3.1101], [x=31.101 y=30.511 orient=3.1101], [x=31.101 y=30.511 orient=3.1101], [x=32.062 y=33.826 orient=2.8322], [x=32.187 y=34.110 orient=2.8486], [x=31.399 y=31.805 orient=3.0354], [x=32.103 y=33.972 orient=2.8560], [x=31.850 y=33.591 orient=2.8875], [x=30.252 y=29.477 orient=2.9495], [x=30.022 y=31.232 orient=2.8970], [x=30.150 y=31.873 orient=2.8869], [x=30.287 y=32.287 orient=2.8003], [x=30.287 y=32.287 orient=2.8003], [x=30.386 y=31.983 orient=2.7729], [x=30.190 y=31.351 orient=2.9053], [x=30.190 y=31.351 orient=2.9053], [x=30.190 y=31.351 orient=2.9053], [x=30.592 y=31.623 orient=2.8647], [x=30.592 y=31.623 orient=2.8647], [x=31.740 y=33.775 orient=2.8188], [x=30.425 y=31.753 orient=2.8290], [x=30.457 y=30.665 orient=2.9475], [x=30.458 y=30.221 orient=3.0486], [x=30.422 y=30.395 orient=3.0145], [x=30.422 y=30.395 orient=3.0145], [x=30.422 y=30.395 orient=3.0145], [x=30.422 y=30.395 orient=3.0145], [x=30.141 y=30.717 orient=2.9857], [x=31.355 y=33.203 orient=2.8255], [x=31.499 y=32.902 orient=2.9344], [x=31.810 y=33.858 orient=2.8150], [x=31.810 y=33.858 orient=2.8150], [x=30.690 y=32.370 orient=2.8894], [x=31.845 y=33.583 orient=2.8262], [x=30.666 y=30.482 orient=2.9413], [x=30.496 y=30.549 orient=2.9220], [x=29.879 y=30.177 orient=3.0447], [x=30.085 y=31.239 orient=2.9391], [x=30.184 y=28.393 orient=3.0842], [x=30.231 y=28.327 orient=3.0972], [x=30.231 y=28.327 orient=3.0972], [x=32.116 y=34.649 orient=2.7734], [x=31.268 y=33.068 orient=2.8089], [x=29.560 y=27.965 orient=3.2123], [x=31.606 y=33.182 orient=2.8616], [x=32.055 y=34.146 orient=2.7850], [x=32.095 y=33.597 orient=2.8353], [x=29.502 y=29.213 orient=3.0447], [x=30.058 y=31.052 orient=2.8726], [x=30.312 y=31.659 orient=2.7941], [x=29.863 y=30.108 orient=2.9663], [x=31.526 y=32.775 orient=2.9449], [x=29.894 y=30.810 orient=2.9257], [x=30.487 y=30.030 orient=3.1180], [x=31.324 y=32.919 orient=2.7542], [x=29.971 y=31.779 orient=2.8339], [x=30.144 y=32.176 orient=2.8810], [x=29.756 y=30.775 orient=3.0077], [x=29.756 y=30.775 orient=3.0077], [x=29.756 y=30.775 orient=3.0077], [x=29.992 y=31.235 orient=2.9087], [x=29.992 y=31.235 orient=2.9087], [x=31.544 y=34.054 orient=2.8365], [x=30.569 y=31.416 orient=2.9008], [x=30.293 y=30.489 orient=3.0492], [x=30.293 y=30.489 orient=3.0492], [x=30.439 y=31.070 orient=3.0010], [x=30.439 y=31.070 orient=3.0010], [x=30.324 y=31.246 orient=2.9870], [x=30.761 y=31.739 orient=2.9691], [x=31.680 y=32.518 orient=2.9004], [x=31.370 y=32.697 orient=2.9243], [x=31.582 y=33.507 orient=2.7884], [x=31.604 y=33.437 orient=2.8002], [x=31.793 y=33.968 orient=2.7725], [x=30.765 y=31.380 orient=2.9886], [x=30.504 y=30.357 orient=3.0786], [x=30.504 y=30.357 orient=3.0786], [x=30.504 y=30.357 orient=3.0786], [x=30.504 y=30.357 orient=3.0786], [x=29.314 y=27.289 orient=3.1375], [x=32.179 y=33.819 orient=2.8281], [x=29.415 y=29.534 orient=3.0071], [x=29.415 y=29.534 orient=3.0071], [x=31.164 y=31.264 orient=2.9755], [x=31.106 y=31.185 orient=2.9932], [x=31.739 y=32.604 orient=2.9152], [x=31.773 y=34.273 orient=2.7954], [x=31.773 y=34.273 orient=2.7954], [x=28.933 y=29.927 orient=2.9421], [x=29.093 y=29.728 orient=2.9085], [x=29.983 y=30.870 orient=2.9544], [x=31.571 y=31.960 orient=3.0103], [x=31.664 y=32.361 orient=2.9284], [x=31.664 y=32.361 orient=2.9284], [x=30.417 y=31.670 orient=2.9383], [x=30.387 y=31.736 orient=2.9266], [x=31.725 y=32.889 orient=2.8528], [x=31.153 y=33.439 orient=2.8747], [x=30.647 y=30.880 orient=2.9185], [x=32.268 y=35.559 orient=2.6367], [x=30.268 y=32.411 orient=2.8936], [x=30.268 y=32.411 orient=2.8936], [x=30.172 y=32.135 orient=2.9171], [x=29.566 y=30.544 orient=2.9860], [x=30.135 y=32.358 orient=2.8610], [x=30.147 y=32.187 orient=2.8937], [x=29.599 y=29.539 orient=3.0440], [x=29.788 y=32.448 orient=2.7218], [x=29.577 y=29.865 orient=3.0020], [x=29.293 y=28.314 orient=3.0908], [x=31.349 y=33.648 orient=2.6940], [x=31.349 y=33.648 orient=2.6940], [x=31.065 y=33.142 orient=2.7496], [x=29.590 y=30.222 orient=2.9088], [x=29.540 y=30.267 orient=2.9604], [x=32.423 y=35.379 orient=2.6346], [x=28.935 y=28.556 orient=3.0247], [x=30.935 y=32.745 orient=2.8026], [x=30.329 y=30.223 orient=3.0287], [x=30.274 y=30.634 orient=2.9489], [x=30.664 y=32.247 orient=2.9208], [x=30.729 y=32.077 orient=2.8421], [x=30.894 y=32.676 orient=2.7842], [x=30.663 y=32.478 orient=2.7845], [x=29.327 y=28.809 orient=3.0812], [x=29.801 y=29.071 orient=3.1129], [x=29.801 y=29.071 orient=3.1129], [x=29.787 y=29.919 orient=2.9439], [x=29.742 y=29.545 orient=3.0187], [x=30.105 y=30.244 orient=2.9420], [x=30.105 y=30.244 orient=2.9420], [x=32.030 y=32.730 orient=2.9290], [x=32.030 y=32.730 orient=2.9290], [x=30.109 y=31.419 orient=2.8508], [x=30.109 y=31.419 orient=2.8508], [x=30.109 y=31.419 orient=2.8508], [x=30.373 y=31.619 orient=2.8778], [x=30.373 y=31.619 orient=2.8778], [x=30.203 y=31.244 orient=2.9587], [x=30.203 y=31.244 orient=2.9587], [x=29.881 y=30.375 orient=3.0494], [x=30.500 y=32.161 orient=2.8690], [x=29.862 y=29.045 orient=3.0493], [x=31.327 y=33.302 orient=2.8581], [x=28.281 y=27.019 orient=3.0524], [x=29.435 y=30.041 orient=3.0262], [x=29.908 y=31.439 orient=2.8802], [x=29.983 y=31.517 orient=2.8791], [x=29.893 y=31.133 orient=2.9576], [x=29.563 y=30.534 orient=2.9423], [x=30.872 y=33.247 orient=2.7985], [x=30.238 y=32.764 orient=2.8150], [x=31.243 y=33.163 orient=2.8733], [x=30.609 y=31.171 orient=2.9794], [x=29.564 y=29.295 orient=3.0702], [x=29.661 y=29.659 orient=2.9961], [x=30.513 y=31.817 orient=2.8013], [x=30.012 y=30.802 orient=2.9356], [x=30.011 y=30.660 orient=3.0087], [x=30.049 y=30.894 orient=2.9612], [x=30.114 y=31.303 orient=2.8788], [x=30.252 y=31.631 orient=2.8082], [x=30.695 y=31.658 orient=2.9680], [x=30.264 y=32.366 orient=2.7040], [x=29.832 y=31.676 orient=2.8173], [x=29.397 y=30.661 orient=2.9379], [x=29.397 y=30.661 orient=2.9379], [x=29.342 y=30.304 orient=2.9130], [x=30.281 y=31.818 orient=2.9159], [x=30.245 y=31.714 orient=2.9381], [x=30.245 y=31.714 orient=2.9381], [x=30.623 y=31.811 orient=2.7727], [x=30.005 y=29.757 orient=2.9917], [x=30.188 y=29.882 orient=2.9289], [x=29.242 y=30.129 orient=2.9806], [x=29.242 y=30.129 orient=2.9806], [x=29.832 y=31.801 orient=2.6999], [x=28.302 y=28.941 orient=2.9405], [x=31.414 y=33.075 orient=2.8132], [x=30.833 y=31.749 orient=2.9022], [x=30.349 y=30.402 orient=3.0086], [x=32.030 y=33.948 orient=2.8449], [x=28.874 y=28.453 orient=3.0972], [x=28.874 y=28.453 orient=3.0972], [x=30.948 y=31.969 orient=2.9020], [x=30.766 y=31.391 orient=2.9840], [x=30.267 y=30.251 orient=2.9799], [x=30.260 y=31.374 orient=2.8639], [x=30.260 y=31.374 orient=2.8639], [x=30.260 y=31.374 orient=2.8639], [x=30.531 y=32.419 orient=2.8621], [x=30.531 y=32.419 orient=2.8621], [x=30.497 y=32.184 orient=2.9098], [x=30.497 y=32.184 orient=2.9098], [x=30.324 y=30.874 orient=2.9396], [x=30.324 y=30.874 orient=2.9396], [x=30.081 y=29.605 orient=3.0056], [x=30.152 y=29.386 orient=3.0476], [x=31.360 y=33.892 orient=2.7652], [x=29.719 y=29.392 orient=3.0749], [x=29.719 y=29.392 orient=3.0749], [x=29.942 y=30.300 orient=2.9690], [x=30.603 y=31.415 orient=2.8643], [x=30.603 y=31.415 orient=2.8643], [x=31.641 y=33.208 orient=2.8968], [x=30.721 y=30.937 orient=2.9499], [x=31.317 y=32.952 orient=2.9097], [x=32.107 y=34.570 orient=2.7076], [x=28.573 y=27.664 orient=3.0295], [x=29.377 y=29.879 orient=2.9839], [x=29.324 y=29.421 orient=3.0762], [x=30.883 y=32.663 orient=2.9071], [x=30.991 y=33.021 orient=2.8318], [x=31.135 y=33.169 orient=2.8056], [x=31.417 y=33.125 orient=2.8050], [x=31.397 y=33.171 orient=2.7977], [x=31.088 y=32.720 orient=2.9224], [x=31.366 y=33.243 orient=2.8069], [x=31.366 y=33.243 orient=2.8069], [x=30.912 y=32.425 orient=2.9311], [x=31.852 y=34.508 orient=2.7101], [x=29.241 y=30.844 orient=2.8526], [x=29.241 y=30.844 orient=2.8526], [x=32.418 y=34.984 orient=2.6970], [x=29.767 y=31.451 orient=2.8713], [x=32.185 y=34.252 orient=2.8317], [x=30.672 y=30.765 orient=2.9970], [x=32.142 y=33.880 orient=2.8351], [x=30.459 y=29.944 orient=3.0575], [x=29.212 y=29.693 orient=2.9676], [x=30.585 y=31.219 orient=3.0713], [x=30.722 y=31.406 orient=2.9981], [x=31.320 y=33.380 orient=2.8240], [x=30.017 y=30.693 orient=2.9650], [x=30.024 y=30.750 orient=2.9984], [x=31.204 y=33.920 orient=2.7642], [x=30.246 y=30.751 orient=2.9886], [x=31.919 y=33.128 orient=2.8316], [x=31.328 y=32.906 orient=2.8278], [x=31.824 y=33.948 orient=2.7949], [x=30.015 y=28.418 orient=3.0641], [x=30.015 y=28.418 orient=3.0641], [x=29.970 y=28.314 orient=3.1317], [x=29.818 y=28.260 orient=3.1221], [x=29.818 y=28.260 orient=3.1221], [x=29.745 y=27.737 orient=3.1960], [x=30.757 y=31.677 orient=2.9070], [x=31.067 y=32.256 orient=2.9826], [x=31.026 y=32.410 orient=2.9499], [x=31.026 y=32.410 orient=2.9499], [x=30.650 y=31.256 orient=3.0194], [x=31.162 y=32.913 orient=2.8364], [x=31.063 y=32.845 orient=2.8616], [x=31.063 y=32.845 orient=2.8616], [x=30.702 y=32.443 orient=2.9798], [x=30.767 y=32.565 orient=2.9578], [x=32.085 y=33.450 orient=2.8944], [x=30.406 y=31.347 orient=2.9721], [x=30.109 y=31.285 orient=2.8971], [x=30.109 y=31.285 orient=2.8971], [x=30.109 y=31.285 orient=2.8971], [x=29.991 y=30.959 orient=2.9660], [x=30.985 y=31.578 orient=2.9392], [x=30.985 y=31.578 orient=2.9392], [x=30.541 y=30.671 orient=2.9415], [x=30.235 y=30.883 orient=2.8834], [x=28.649 y=28.567 orient=3.0127], [x=29.027 y=29.086 orient=3.0166], [x=28.980 y=29.459 orient=2.9436], [x=28.980 y=29.459 orient=2.9436], [x=28.700 y=27.715 orient=3.1477], [x=28.700 y=27.715 orient=3.1477], [x=30.850 y=31.260 orient=3.0163], [x=30.850 y=31.260 orient=3.0163], [x=31.110 y=32.564 orient=2.8516], [x=31.110 y=32.564 orient=2.8516], [x=31.107 y=32.385 orient=2.8865], [x=30.338 y=30.105 orient=3.0425], [x=29.257 y=27.466 orient=3.1265], [x=30.671 y=31.108 orient=2.9708], [x=30.671 y=31.108 orient=2.9708], [x=30.630 y=33.091 orient=2.8531], [x=30.740 y=33.131 orient=2.8392], [x=31.903 y=33.549 orient=2.8878], [x=32.027 y=33.981 orient=2.7981], [x=30.932 y=31.330 orient=3.0375], [x=29.043 y=29.875 orient=2.9470], [x=29.755 y=30.937 orient=2.9755], [x=29.755 y=30.937 orient=2.9755], [x=29.752 y=31.262 orient=2.9121], [x=29.752 y=31.262 orient=2.9121], [x=30.745 y=32.924 orient=2.8546], [x=30.656 y=32.887 orient=2.8182], [x=31.419 y=33.072 orient=2.8443], [x=31.114 y=31.833 orient=2.9509], [x=30.174 y=30.884 orient=2.9667], [x=30.021 y=30.547 orient=3.0375], [x=30.920 y=32.670 orient=2.8226], [x=30.920 y=32.670 orient=2.8226], [x=30.920 y=32.670 orient=2.8226], [x=31.502 y=33.260 orient=2.8320], [x=31.385 y=33.451 orient=2.8643], [x=30.549 y=31.370 orient=3.0087], [x=30.549 y=31.370 orient=3.0087], [x=30.562 y=31.661 orient=2.9510], [x=30.562 y=31.661 orient=2.9510], [x=30.822 y=32.354 orient=2.8475], [x=30.695 y=31.866 orient=2.9414], [x=29.785 y=29.342 orient=3.0720], [x=30.210 y=31.745 orient=2.9073], [x=29.037 y=29.737 orient=2.9124], [x=29.037 y=29.737 orient=2.9124], [x=29.037 y=29.737 orient=2.9124], [x=28.861 y=29.402 orient=2.9604], [x=30.046 y=29.406 orient=3.0438], [x=29.954 y=28.998 orient=3.1013], [x=29.954 y=28.998 orient=3.1013], [x=29.886 y=30.013 orient=3.0036], [x=29.886 y=30.013 orient=3.0036], [x=29.960 y=30.061 orient=2.9921], [x=29.960 y=30.061 orient=2.9921], [x=30.149 y=30.346 orient=2.9635], [x=30.873 y=33.005 orient=2.8368], [x=30.546 y=31.651 orient=2.9002], [x=30.546 y=31.651 orient=2.9002], [x=32.230 y=33.918 orient=2.8541], [x=32.265 y=33.917 orient=2.8525], [x=30.833 y=31.080 orient=2.9601], [x=30.734 y=30.731 orient=3.0322], [x=30.961 y=31.690 orient=3.0181], [x=30.961 y=31.690 orient=3.0181], [x=30.063 y=31.254 orient=2.8879], [x=30.063 y=31.254 orient=2.8879], [x=30.181 y=31.319 orient=2.8283], [x=29.759 y=27.917 orient=3.2156], [x=30.630 y=32.123 orient=2.8105], [x=30.630 y=32.123 orient=2.8105], [x=30.138 y=30.585 orient=2.9716], [x=30.138 y=30.585 orient=2.9716], [x=33.619 y=35.329 orient=2.8010], [x=30.702 y=32.545 orient=2.7702], [x=30.881 y=32.589 orient=2.8377], [x=30.881 y=32.589 orient=2.8377], [x=30.881 y=32.589 orient=2.8377], [x=30.764 y=32.313 orient=2.7197], [x=30.556 y=32.012 orient=2.7902], [x=30.772 y=31.832 orient=2.8430], [x=30.332 y=30.579 orient=3.0167], [x=30.332 y=30.579 orient=3.0167], [x=30.332 y=30.579 orient=3.0167], [x=30.507 y=31.191 orient=2.9911], [x=31.120 y=32.859 orient=2.8052], [x=30.072 y=30.890 orient=2.9182], [x=30.072 y=30.890 orient=2.9182], [x=29.980 y=30.237 orient=3.0500], [x=29.980 y=30.237 orient=3.0500], [x=30.134 y=30.940 orient=2.9567], [x=30.553 y=31.322 orient=2.9017], [x=30.586 y=31.605 orient=2.8450], [x=30.809 y=34.062 orient=2.7839], [x=30.434 y=31.587 orient=2.9126], [x=29.971 y=30.825 orient=3.0537], [x=29.971 y=30.825 orient=3.0537], [x=29.630 y=28.130 orient=3.1211], [x=30.650 y=31.483 orient=2.9876], [x=31.532 y=33.874 orient=2.7574], [x=29.410 y=28.461 orient=3.0659], [x=30.531 y=31.604 orient=2.9693], [x=30.531 y=31.604 orient=2.9693], [x=31.318 y=33.084 orient=2.8717], [x=31.318 y=33.084 orient=2.8717], [x=30.554 y=32.549 orient=2.8887], [x=29.049 y=27.690 orient=3.1791], [x=30.767 y=31.182 orient=2.9885], [x=30.178 y=30.271 orient=3.0241], [x=30.178 y=30.271 orient=3.0241], [x=30.178 y=30.271 orient=3.0241], [x=30.178 y=30.271 orient=3.0241], [x=30.115 y=30.117 orient=3.0562], [x=30.115 y=30.117 orient=3.0562], [x=30.250 y=30.780 orient=2.8686], [x=30.250 y=30.780 orient=2.8686], [x=30.830 y=31.654 orient=2.9653], [x=30.582 y=31.113 orient=2.9299], [x=30.723 y=30.858 orient=2.9511], [x=30.723 y=30.858 orient=2.9511], [x=30.642 y=30.742 orient=2.9764], [x=29.786 y=29.663 orient=3.0320], [x=30.561 y=32.876 orient=2.8100], [x=30.389 y=32.100 orient=2.9682], [x=30.674 y=33.414 orient=2.7479], [x=30.674 y=33.414 orient=2.7479], [x=30.023 y=32.268 orient=2.7524], [x=29.164 y=30.779 orient=2.9236], [x=29.520 y=31.517 orient=2.8234], [x=29.520 y=31.517 orient=2.8234], [x=29.538 y=31.536 orient=2.8187], [x=30.069 y=31.195 orient=2.9344], [x=29.483 y=28.752 orient=3.0317], [x=31.590 y=33.134 orient=2.9820], [x=31.488 y=33.006 orient=2.8350], [x=31.488 y=33.006 orient=2.8350], [x=29.559 y=30.582 orient=3.0102], [x=29.559 y=30.582 orient=3.0102], [x=31.532 y=33.361 orient=2.8073], [x=30.797 y=32.790 orient=2.7762], [x=30.209 y=31.370 orient=2.9519], [x=31.731 y=33.614 orient=2.8299], [x=31.731 y=33.614 orient=2.8299], [x=31.631 y=33.306 orient=2.8222], [x=31.858 y=33.395 orient=2.8393], [x=31.858 y=33.395 orient=2.8393], [x=31.583 y=32.279 orient=2.9465], [x=32.501 y=34.836 orient=2.7204], [x=29.601 y=29.371 orient=3.0148], [x=29.657 y=28.394 orient=3.1163], [x=30.298 y=30.972 orient=2.9132], [x=28.813 y=28.394 orient=3.1303], [x=28.813 y=28.394 orient=3.1303], [x=30.844 y=33.439 orient=2.7050], [x=29.790 y=31.493 orient=2.8865], [x=29.790 y=31.493 orient=2.8865], [x=30.449 y=30.983 orient=2.9398], [x=29.881 y=28.712 orient=3.1735], [x=29.881 y=28.712 orient=3.1735], [x=29.806 y=29.355 orient=3.0539], [x=30.646 y=32.515 orient=2.8220], [x=31.305 y=32.587 orient=2.9054], [x=31.305 y=32.587 orient=2.9054], [x=31.152 y=31.415 orient=3.0280], [x=31.017 y=32.124 orient=2.8867], [x=31.050 y=32.352 orient=2.8407], [x=30.863 y=32.209 orient=2.9265], [x=29.706 y=28.141 orient=3.0831], [x=29.706 y=28.141 orient=3.0831], [x=30.541 y=30.234 orient=3.0536], [x=30.541 y=30.234 orient=3.0536], [x=31.730 y=33.547 orient=2.7599], [x=29.889 y=29.672 orient=3.0184], [x=30.677 y=32.672 orient=2.8403], [x=30.999 y=33.106 orient=2.7768], [x=30.854 y=32.823 orient=2.8388], [x=30.137 y=31.516 orient=2.9431], [x=29.518 y=30.563 orient=2.9269], [x=29.518 y=30.563 orient=2.9269], [x=29.518 y=30.563 orient=2.9269], [x=29.468 y=31.031 orient=2.8733], [x=32.128 y=35.007 orient=2.6948], [x=29.881 y=31.131 orient=2.9921], [x=29.881 y=31.131 orient=2.9921], [x=29.881 y=31.131 orient=2.9921], [x=30.168 y=31.891 orient=2.8319], [x=31.286 y=33.522 orient=2.7393], [x=31.286 y=33.522 orient=2.7393], [x=28.828 y=28.515 orient=3.0854], [x=30.013 y=30.114 orient=3.0081], [x=30.281 y=30.886 orient=2.9290], [x=30.281 y=30.886 orient=2.9290], [x=31.296 y=32.335 orient=2.9547], [x=31.486 y=33.323 orient=2.7795], [x=31.486 y=33.323 orient=2.7795], [x=30.103 y=30.413 orient=2.9827], [x=30.123 y=30.188 orient=3.0269], [x=29.781 y=29.971 orient=2.9942], [x=29.781 y=29.971 orient=2.9942], [x=31.918 y=34.434 orient=2.6947], [x=30.842 y=32.674 orient=2.7558], [x=30.018 y=29.903 orient=3.0515], [x=30.018 y=29.903 orient=3.0515], [x=31.091 y=32.720 orient=2.8326], [x=29.934 y=30.224 orient=2.9454], [x=29.934 y=30.224 orient=2.9454], [x=29.934 y=30.224 orient=2.9454], [x=30.576 y=31.672 orient=2.9483], [x=30.510 y=31.334 orient=3.0169], [x=30.840 y=32.623 orient=2.7952], [x=29.662 y=29.547 orient=3.0333], [x=30.104 y=31.772 orient=2.9070], [x=30.104 y=31.772 orient=2.9070], [x=28.921 y=29.542 orient=2.9553], [x=29.947 y=29.460 orient=3.0350], [x=29.909 y=29.306 orient=3.0660], [x=29.909 y=29.306 orient=3.0660], [x=30.050 y=28.661 orient=3.1691], [x=30.050 y=28.661 orient=3.1691], [x=29.941 y=29.177 orient=3.0658], [x=31.136 y=32.756 orient=2.8393], [x=31.136 y=32.756 orient=2.8393], [x=29.958 y=29.895 orient=3.0251], [x=30.163 y=30.501 orient=2.9322], [x=30.163 y=30.501 orient=2.9322], [x=30.782 y=32.175 orient=2.8835], [x=30.782 y=32.175 orient=2.8835], [x=29.400 y=29.825 orient=2.9657], [x=30.547 y=31.355 orient=2.9492], [x=30.390 y=31.031 orient=3.0176], [x=28.705 y=28.355 orient=3.0195], [x=31.613 y=34.584 orient=2.7867], [x=30.796 y=31.048 orient=2.9677], [x=30.126 y=31.448 orient=2.8474], [x=30.126 y=31.448 orient=2.8474], [x=30.126 y=31.448 orient=2.8474], [x=30.055 y=30.780 orient=2.9383], [x=29.715 y=28.401 orient=3.1172], [x=32.177 y=35.273 orient=2.6939], [x=30.615 y=31.882 orient=2.8571], [x=30.615 y=31.882 orient=2.8571], [x=30.119 y=31.044 orient=2.8828], [x=30.499 y=31.823 orient=2.9195], [x=30.460 y=31.650 orient=2.9548], [x=30.412 y=31.680 orient=2.9507], [x=30.991 y=32.967 orient=2.7487], [x=29.825 y=28.531 orient=3.1619], [x=30.403 y=31.064 orient=2.9188], [x=30.403 y=31.064 orient=2.9188], [x=30.718 y=31.783 orient=2.8657], [x=30.860 y=31.794 orient=2.8956], [x=30.978 y=32.646 orient=2.8546], [x=30.026 y=30.550 orient=2.9868], [x=30.244 y=30.973 orient=2.9460], [x=30.244 y=30.973 orient=2.9460], [x=30.742 y=31.738 orient=2.9096], [x=31.767 y=33.403 orient=2.8735], [x=31.276 y=33.008 orient=2.7952], [x=30.124 y=31.364 orient=2.9412], [x=30.124 y=31.364 orient=2.9412], [x=31.993 y=34.126 orient=2.8659], [x=29.577 y=27.688 orient=3.1816], [x=29.571 y=28.514 orient=3.0833], [x=30.735 y=31.702 orient=2.9412], [x=29.859 y=32.614 orient=2.7403], [x=29.456 y=28.344 orient=3.0978], [x=29.375 y=28.581 orient=3.0429], [x=29.868 y=29.089 orient=3.1307], [x=29.868 y=29.089 orient=3.1307], [x=30.442 y=31.638 orient=2.9657], [x=31.913 y=34.485 orient=2.7873], [x=31.270 y=32.671 orient=2.9540], [x=31.457 y=33.103 orient=2.8605], [x=30.520 y=32.248 orient=2.9658], [x=31.825 y=34.009 orient=2.7686], [x=30.766 y=31.538 orient=2.9190], [x=30.743 y=31.346 orient=2.9571], [x=30.087 y=29.978 orient=3.0845], [x=31.314 y=33.588 orient=2.8190], [x=31.364 y=33.781 orient=2.7799], [x=30.430 y=30.606 orient=2.9648], [x=30.501 y=30.315 orient=3.0904], [x=30.531 y=30.287 orient=3.0958], [x=30.616 y=30.378 orient=3.0557], [x=30.616 y=30.378 orient=3.0557], [x=30.721 y=30.586 orient=3.0046], [x=29.663 y=29.800 orient=3.0078], [x=30.419 y=32.458 orient=2.8974], [x=30.682 y=32.977 orient=2.7828], [x=30.067 y=30.321 orient=3.0099], [x=30.576 y=33.201 orient=2.7948], [x=31.258 y=31.958 orient=2.8651], [x=31.145 y=31.694 orient=2.9870], [x=31.145 y=31.694 orient=2.9870], [x=29.840 y=32.184 orient=2.7814], [x=28.871 y=29.188 orient=3.0019], [x=29.236 y=30.803 orient=2.9158], [x=32.423 y=34.907 orient=2.6833], [x=30.846 y=32.401 orient=2.8998], [x=30.776 y=32.189 orient=2.9448], [x=30.776 y=32.189 orient=2.9448], [x=29.467 y=29.069 orient=2.9686], [x=31.554 y=33.258 orient=2.9588], [x=31.554 y=33.258 orient=2.9588], [x=30.547 y=31.610 orient=2.8670], [x=30.495 y=31.525 orient=2.8862], [x=30.495 y=31.525 orient=2.8862], [x=30.953 y=32.121 orient=2.9530], [x=30.953 y=32.121 orient=2.9530], [x=29.973 y=31.076 orient=2.9522], [x=30.039 y=30.940 orient=2.9765], [x=30.593 y=32.226 orient=2.8769], [x=30.593 y=32.226 orient=2.8769], [x=32.541 y=35.133 orient=2.7466], [x=29.117 y=29.718 orient=2.9105], [x=29.293 y=30.037 orient=2.9498], [x=29.293 y=30.037 orient=2.9498], [x=31.720 y=32.958 orient=2.9341], [x=31.720 y=32.958 orient=2.9341], [x=29.664 y=29.916 orient=2.9045], [x=29.664 y=29.916 orient=2.9045], [x=29.664 y=29.916 orient=2.9045], [x=29.983 y=30.405 orient=2.9335], [x=29.749 y=28.228 orient=3.1488], [x=29.305 y=29.074 orient=2.9785], [x=29.305 y=29.074 orient=2.9785], [x=30.363 y=31.273 orient=2.8930], [x=30.171 y=30.670 orient=2.9774], [x=30.212 y=30.880 orient=2.9348], [x=28.704 y=27.776 orient=3.1706], [x=30.688 y=31.864 orient=2.9360], [x=30.314 y=32.206 orient=2.8568], [x=29.406 y=30.492 orient=3.0117], [x=31.398 y=33.388 orient=2.8110], [x=29.843 y=29.030 orient=3.1095], [x=29.753 y=29.406 orient=3.0363], [x=29.801 y=29.357 orient=3.0537], [x=30.616 y=32.363 orient=2.8529], [x=30.616 y=32.363 orient=2.8529], [x=31.372 y=32.970 orient=2.9180], [x=31.369 y=32.538 orient=2.9120], [x=31.113 y=31.546 orient=3.0029], [x=31.084 y=31.516 orient=3.0096], [x=31.040 y=31.263 orient=3.0603], [x=30.252 y=31.960 orient=2.8202], [x=32.031 y=34.352 orient=2.8248], [x=30.876 y=31.765 orient=2.9638], [x=30.876 y=31.765 orient=2.9638], [x=29.598 y=27.800 orient=3.1510], [x=29.598 y=27.800 orient=3.1510], [x=30.118 y=29.779 orient=3.0294], [x=30.118 y=29.779 orient=3.0294], [x=30.118 y=29.779 orient=3.0294], [x=30.120 y=30.031 orient=2.9800], [x=30.568 y=30.686 orient=2.9633], [x=30.518 y=31.365 orient=2.9494], [x=30.520 y=31.316 orient=2.9591], [x=30.486 y=31.073 orient=3.0083], [x=30.641 y=31.732 orient=2.9708], [x=30.543 y=31.684 orient=2.9834], [x=31.165 y=33.139 orient=2.7585], [x=31.332 y=32.403 orient=2.9079], [x=30.013 y=31.147 orient=3.0201], [x=29.594 y=31.046 orient=2.9424], [x=29.572 y=31.194 orient=2.8358], [x=29.485 y=30.699 orient=3.0430], [x=29.874 y=30.434 orient=3.0372], [x=29.874 y=30.434 orient=3.0372], [x=29.763 y=30.234 orient=3.0788], [x=29.763 y=30.234 orient=3.0788], [x=31.400 y=33.629 orient=2.7850], [x=28.780 y=28.729 orient=3.0437], [x=29.367 y=28.100 orient=3.1407], [x=29.487 y=28.507 orient=3.0587], [x=29.487 y=28.507 orient=3.0587], [x=30.749 y=32.585 orient=2.8816], [x=30.749 y=32.585 orient=2.8816], [x=30.906 y=32.704 orient=2.9119], [x=30.906 y=32.704 orient=2.9119], [x=29.975 y=29.934 orient=3.0449], [x=29.975 y=29.934 orient=3.0449], [x=30.265 y=30.875 orient=2.9318], [x=31.215 y=32.528 orient=2.9202], [x=30.774 y=32.119 orient=2.9016], [x=31.248 y=33.071 orient=2.8423], [x=29.819 y=29.313 orient=3.1256], [x=31.950 y=34.392 orient=2.6995], [x=31.950 y=34.392 orient=2.6995], [x=32.935 y=35.554 orient=2.7131], [x=31.077 y=30.996 orient=3.0458], [x=31.364 y=32.704 orient=2.8893], [x=31.305 y=32.405 orient=2.9188], [x=31.632 y=32.620 orient=2.9016], [x=30.007 y=31.061 orient=2.9283], [x=31.625 y=33.339 orient=2.8915], [x=31.961 y=34.176 orient=2.8211], [x=31.961 y=34.176 orient=2.8211], [x=30.438 y=32.020 orient=2.8465], [x=30.104 y=31.089 orient=2.9112], [x=30.479 y=31.936 orient=2.8124], [x=30.560 y=31.264 orient=2.9263], [x=30.623 y=31.485 orient=2.8805], [x=30.614 y=30.797 orient=3.0081], [x=30.614 y=30.797 orient=3.0081], [x=31.852 y=32.644 orient=2.9761], [x=29.721 y=30.418 orient=2.8944], [x=29.679 y=29.597 orient=3.0359], [x=31.351 y=33.066 orient=2.8920], [x=31.488 y=33.327 orient=2.8368], [x=31.488 y=33.327 orient=2.8368], [x=31.378 y=33.446 orient=2.8398], [x=31.378 y=33.446 orient=2.8398], [x=30.403 y=33.235 orient=2.7727], [x=30.508 y=29.806 orient=3.0331], [x=30.090 y=31.202 orient=2.9284], [x=30.914 y=32.228 orient=2.9235], [x=31.056 y=32.467 orient=2.8725], [x=29.931 y=31.376 orient=2.9753], [x=30.437 y=32.411 orient=2.8294], [x=31.209 y=33.115 orient=2.9112], [x=29.740 y=30.127 orient=2.9391], [x=30.164 y=30.983 orient=2.8983], [x=30.123 y=30.847 orient=2.9268], [x=30.123 y=30.847 orient=2.9268], [x=30.041 y=30.500 orient=2.9981], [x=29.837 y=29.572 orient=3.0172], [x=29.837 y=29.572 orient=3.0172], [x=29.757 y=29.622 orient=3.0617], [x=31.504 y=33.075 orient=2.8767], [x=30.162 y=31.390 orient=2.8940], [x=30.231 y=31.401 orient=2.8883], [x=30.080 y=31.291 orient=2.8599], [x=29.920 y=30.998 orient=2.9249], [x=30.440 y=30.744 orient=3.1106], [x=30.682 y=31.529 orient=2.9250], [x=32.508 y=34.721 orient=2.7378], [x=30.850 y=31.463 orient=2.9093], [x=30.780 y=31.341 orient=2.9362], [x=30.495 y=32.748 orient=2.8142], [x=29.694 y=30.972 orient=2.9331], [x=29.694 y=30.972 orient=2.9331], [x=30.481 y=30.926 orient=2.9894], [x=30.574 y=30.868 orient=2.9983], [x=30.396 y=31.032 orient=2.9772], [x=30.611 y=32.858 orient=2.8426], [x=31.776 y=32.626 orient=2.9165], [x=29.315 y=27.435 orient=3.1267], [x=33.264 y=35.865 orient=2.6361], [x=29.563 y=28.419 orient=3.1351], [x=29.563 y=28.419 orient=3.1351], [x=29.563 y=28.419 orient=3.1351], [x=29.444 y=28.905 orient=3.0635], [x=29.444 y=28.905 orient=3.0635], [x=29.444 y=28.905 orient=3.0635], [x=29.888 y=31.041 orient=2.8799], [x=30.565 y=30.970 orient=2.9865], [x=30.565 y=30.970 orient=2.9865], [x=28.836 y=28.205 orient=2.9516], [x=28.574 y=27.749 orient=3.0700], [x=29.326 y=27.520 orient=3.1425], [x=32.257 y=34.170 orient=2.8618], [x=32.204 y=34.211 orient=2.8240], [x=32.624 y=34.473 orient=2.7951], [x=31.528 y=32.011 orient=2.9834], [x=31.644 y=33.311 orient=2.9012], [x=30.161 y=30.857 orient=2.9236], [x=30.161 y=30.857 orient=2.9236], [x=30.146 y=31.386 orient=2.9376], [x=30.434 y=30.197 orient=3.0222], [x=31.402 y=33.907 orient=2.8082], [x=28.859 y=29.602 orient=2.9684], [x=29.007 y=28.230 orient=3.1158], [x=30.621 y=33.254 orient=2.8047], [x=30.394 y=32.775 orient=2.8130], [x=31.465 y=33.850 orient=2.7431], [x=31.465 y=33.850 orient=2.7431], [x=30.527 y=30.460 orient=3.0278], [x=30.676 y=31.279 orient=2.9111], [x=30.676 y=31.279 orient=2.9111], [x=30.713 y=31.286 orient=2.9081], [x=31.195 y=32.244 orient=2.8962], [x=31.860 y=33.281 orient=2.9294], [x=30.807 y=32.335 orient=2.8727], [x=30.790 y=32.362 orient=2.8684], [x=31.300 y=33.019 orient=2.8799], [x=30.179 y=32.554 orient=2.8676], [x=30.003 y=32.299 orient=2.8557], [x=30.003 y=32.299 orient=2.8557], [x=30.124 y=32.729 orient=2.7663], [x=30.124 y=32.729 orient=2.7663], [x=30.124 y=32.729 orient=2.7663], [x=29.915 y=32.071 orient=2.8310], [x=29.915 y=32.071 orient=2.8310], [x=31.516 y=33.551 orient=2.9164], [x=31.546 y=33.341 orient=2.8584], [x=31.365 y=33.489 orient=2.7510], [x=31.365 y=33.489 orient=2.7510], [x=30.583 y=31.791 orient=2.9286], [x=30.029 y=30.323 orient=2.9876], [x=30.030 y=30.242 orient=3.0034], [x=31.361 y=32.636 orient=2.8772], [x=30.781 y=31.712 orient=2.9442], [x=30.007 y=29.268 orient=3.1092], [x=32.086 y=34.613 orient=2.7927], [x=32.086 y=34.613 orient=2.7927], [x=31.162 y=31.657 orient=2.9323], [x=31.101 y=30.511 orient=3.1101], [x=32.187 y=34.110 orient=2.8486], [x=32.103 y=33.972 orient=2.8560], [x=30.252 y=29.477 orient=2.9495], [x=30.252 y=29.477 orient=2.9495], [x=29.299 y=28.093 orient=3.1130], [x=30.287 y=32.287 orient=2.8003], [x=30.386 y=31.983 orient=2.7729], [x=30.386 y=31.983 orient=2.7729], [x=30.386 y=31.983 orient=2.7729], [x=30.190 y=31.351 orient=2.9053], [x=30.592 y=31.623 orient=2.8647], [x=30.583 y=31.687 orient=2.8527], [x=30.583 y=31.687 orient=2.8527], [x=30.425 y=31.753 orient=2.8290], [x=30.468 y=31.441 orient=2.8864], [x=30.457 y=30.665 orient=2.9475], [x=30.458 y=30.221 orient=3.0486], [x=30.422 y=30.395 orient=3.0145], [x=29.994 y=30.448 orient=2.9848], [x=29.994 y=30.448 orient=2.9848], [x=29.568 y=29.019 orient=3.0978], [x=29.568 y=29.019 orient=3.0978], [x=29.568 y=29.019 orient=3.0978], [x=31.355 y=33.203 orient=2.8255], [x=31.948 y=34.352 orient=2.6701], [x=31.499 y=32.902 orient=2.9344], [x=31.499 y=32.902 orient=2.9344], [x=31.304 y=32.361 orient=2.9176], [x=31.304 y=32.361 orient=2.9176], [x=31.810 y=33.858 orient=2.8150], [x=31.810 y=33.858 orient=2.8150], [x=31.644 y=34.102 orient=2.7594], [x=31.644 y=34.102 orient=2.7594], [x=30.718 y=33.415 orient=2.7465], [x=30.718 y=33.415 orient=2.7465], [x=30.666 y=30.482 orient=2.9413], [x=30.648 y=30.128 orient=3.0128], [x=30.648 y=30.128 orient=3.0128], [x=29.879 y=30.177 orient=3.0447], [x=29.879 y=30.177 orient=3.0447], [x=30.085 y=31.239 orient=2.9391], [x=30.184 y=28.393 orient=3.0842], [x=32.081 y=34.469 orient=2.7556], [x=32.081 y=34.469 orient=2.7556], [x=31.162 y=32.774 orient=2.7885], [x=31.162 y=32.774 orient=2.7885], [x=31.268 y=33.068 orient=2.8089], [x=31.268 y=33.068 orient=2.8089], [x=29.594 y=28.683 orient=3.0684], [x=29.594 y=28.683 orient=3.0684], [x=29.560 y=27.965 orient=3.2123], [x=29.695 y=29.068 orient=3.0974], [x=32.055 y=34.146 orient=2.7850], [x=31.977 y=33.661 orient=2.8826], [x=32.095 y=33.597 orient=2.8353], [x=31.161 y=32.904 orient=2.8910], [x=29.502 y=29.213 orient=3.0447], [x=30.058 y=31.052 orient=2.8726], [x=30.312 y=31.659 orient=2.7941], [x=29.863 y=30.108 orient=2.9663], [x=31.526 y=32.775 orient=2.9449], [x=29.894 y=30.810 orient=2.9257], [x=29.894 y=30.810 orient=2.9257], [x=29.894 y=30.810 orient=2.9257], [x=32.445 y=34.692 orient=2.7862], [x=29.971 y=31.779 orient=2.8339], [x=30.144 y=32.176 orient=2.8810], [x=30.144 y=32.176 orient=2.8810], [x=29.921 y=31.284 orient=2.9026], [x=29.992 y=31.235 orient=2.9087], [x=31.544 y=34.054 orient=2.8365], [x=30.569 y=31.416 orient=2.9008], [x=30.569 y=31.416 orient=2.9008], [x=30.439 y=31.070 orient=3.0010], [x=30.439 y=31.070 orient=3.0010], [x=30.496 y=31.623 orient=2.8909], [x=30.761 y=31.739 orient=2.9691], [x=31.646 y=32.523 orient=2.8984], [x=31.680 y=32.518 orient=2.9004], [x=29.432 y=27.456 orient=3.1573], [x=31.362 y=32.601 orient=2.9436], [x=31.604 y=33.437 orient=2.8002], [x=31.793 y=33.968 orient=2.7725], [x=30.765 y=31.380 orient=2.9886], [x=30.765 y=31.380 orient=2.9886], [x=29.533 y=28.769 orient=3.0544], [x=29.345 y=26.693 orient=3.2350], [x=29.415 y=29.534 orient=3.0071], [x=31.106 y=31.185 orient=2.9932], [x=32.063 y=33.870 orient=2.7705], [x=28.901 y=30.124 orient=2.9055], [x=28.901 y=30.124 orient=2.9055], [x=31.129 y=31.953 orient=2.9701], [x=31.129 y=31.953 orient=2.9701], [x=29.093 y=29.728 orient=2.9085], [x=32.602 y=34.415 orient=2.8860], [x=29.983 y=30.870 orient=2.9544], [x=29.983 y=30.870 orient=2.9544], [x=31.571 y=31.960 orient=3.0103], [x=30.417 y=31.670 orient=2.9383], [x=30.387 y=31.736 orient=2.9266], [x=30.387 y=31.736 orient=2.9266], [x=30.387 y=31.736 orient=2.9266], [x=30.302 y=31.215 orient=3.0206], [x=31.725 y=32.889 orient=2.8528], [x=31.153 y=33.439 orient=2.8747], [x=31.153 y=33.439 orient=2.8747], [x=29.903 y=28.908 orient=3.1225], [x=32.268 y=35.559 orient=2.6367], [x=30.268 y=32.411 orient=2.8936], [x=30.172 y=32.135 orient=2.9171], [x=30.556 y=33.092 orient=2.8042], [x=29.566 y=30.544 orient=2.9860], [x=30.296 y=32.041 orient=2.9013], [x=30.147 y=32.187 orient=2.8937], [x=29.599 y=29.539 orient=3.0440], [x=29.788 y=32.448 orient=2.7218], [x=29.177 y=29.013 orient=3.0135], [x=31.303 y=32.645 orient=2.9054], [x=29.293 y=28.314 orient=3.0908], [x=31.065 y=33.142 orient=2.7496], [x=30.975 y=33.100 orient=2.7642], [x=29.590 y=30.222 orient=2.9088], [x=29.590 y=30.222 orient=2.9088], [x=29.540 y=30.267 orient=2.9604], [x=29.540 y=30.267 orient=2.9604], [x=31.372 y=32.541 orient=2.8331], [x=32.423 y=35.379 orient=2.6346], [x=28.935 y=28.556 orient=3.0247], [x=27.338 y=24.677 orient=3.1958], [x=32.702 y=35.876 orient=2.7072], [x=30.329 y=30.223 orient=3.0287], [x=30.274 y=30.634 orient=2.9489], [x=30.729 y=32.077 orient=2.8421], [x=30.729 y=32.077 orient=2.8421], [x=30.663 y=32.478 orient=2.7845], [x=29.327 y=28.809 orient=3.0812], [x=29.801 y=29.071 orient=3.1129], [x=29.742 y=29.545 orient=3.0187], [x=30.014 y=30.294 orient=2.9358], [x=32.030 y=32.730 orient=2.9290], [x=30.874 y=33.336 orient=2.8110], [x=30.203 y=31.244 orient=2.9587], [x=29.881 y=30.375 orient=3.0494], [x=30.463 y=31.881 orient=2.9068], [x=30.463 y=31.881 orient=2.9068], [x=30.463 y=31.881 orient=2.9068], [x=30.463 y=31.881 orient=2.9068], [x=30.463 y=31.881 orient=2.9068], [x=30.500 y=32.161 orient=2.8690], [x=29.844 y=29.064 orient=3.0458], [x=29.862 y=29.045 orient=3.0493], [x=30.302 y=30.922 orient=3.0019], [x=30.302 y=30.922 orient=3.0019], [x=30.302 y=30.922 orient=3.0019], [x=28.281 y=27.019 orient=3.0524], [x=29.910 y=31.150 orient=2.9364], [x=29.983 y=31.517 orient=2.8791], [x=29.983 y=31.517 orient=2.8791], [x=29.629 y=30.889 orient=2.8704], [x=29.629 y=30.889 orient=2.8704], [x=30.883 y=33.173 orient=2.8115], [x=30.872 y=33.247 orient=2.7985], [x=30.872 y=33.247 orient=2.7985], [x=30.872 y=33.247 orient=2.7985], [x=30.238 y=32.764 orient=2.8150], [x=31.243 y=33.163 orient=2.8733], [x=31.356 y=33.320 orient=2.7980], [x=31.356 y=33.320 orient=2.7980], [x=30.609 y=31.171 orient=2.9794]]\n"
     ]
    }
   ],
   "source": [
    "N = 1000 # numbers of particles\n",
    "T = 10 # resampling times\n",
    "\n",
    "# create my robot\n",
    "myrobot = robot()\n",
    "\n",
    "# create particles\n",
    "p = []\n",
    "for i in range(N):\n",
    "    x = robot() # random particles\n",
    "    x.set_noise(0.05, 0.05, 5.0)\n",
    "    p.append(x)\n",
    "\n",
    "# start the particle filter\n",
    "for t in range(T):\n",
    "    myrobot = myrobot.move(0.1, 5.0)\n",
    "    Z = myrobot.sense()\n",
    "    \n",
    "    p2 = []\n",
    "    for i in range(N):\n",
    "        p2.append(p[i].move(0.1, 5.0))\n",
    "    p = p2\n",
    "    \n",
    "    # calculate the weight\n",
    "    w = []\n",
    "    for i in range(N):\n",
    "        weight = p[i].measurement_prob(Z)\n",
    "        w.append(weight)\n",
    "        \n",
    "    # resampling\n",
    "    p3=[] \n",
    "    index = int(random.random()*N) \n",
    "    beta = 0.0\n",
    "    mw = max(w)\n",
    "    for i in range(N):\n",
    "        beta += random.random()*2.0*mw \n",
    "        while beta > w[index]:\n",
    "            beta -= w[index]\n",
    "            index = (index + 1)% N \n",
    "        p3.append(p[index])\n",
    "    p=p3\n",
    "\n",
    "    print eval(myrobot, p)\n",
    "\n",
    "print p\n"
   ]
  },
  {
   "cell_type": "markdown",
   "metadata": {
    "collapsed": true
   },
   "source": [
    "* The orientations play a role, meaning get updated. Because you need to move the particles/robot before each resampling."
   ]
  },
  {
   "cell_type": "code",
   "execution_count": null,
   "metadata": {
    "collapsed": true
   },
   "outputs": [],
   "source": []
  }
 ],
 "metadata": {
  "kernelspec": {
   "display_name": "Python 2",
   "language": "python",
   "name": "python2"
  },
  "language_info": {
   "codemirror_mode": {
    "name": "ipython",
    "version": 2
   },
   "file_extension": ".py",
   "mimetype": "text/x-python",
   "name": "python",
   "nbconvert_exporter": "python",
   "pygments_lexer": "ipython2",
   "version": "2.7.11"
  }
 },
 "nbformat": 4,
 "nbformat_minor": 0
}
